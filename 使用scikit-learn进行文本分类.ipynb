{
 "cells": [
  {
   "cell_type": "code",
   "execution_count": 1,
   "metadata": {
    "collapsed": true
   },
   "outputs": [],
   "source": [
    "from sklearn import datasets"
   ]
  },
  {
   "cell_type": "code",
   "execution_count": 2,
   "metadata": {
    "collapsed": true
   },
   "outputs": [],
   "source": [
    "twenty_train=datasets.load_files(\"20news-bydate-train\")"
   ]
  },
  {
   "cell_type": "code",
   "execution_count": 4,
   "metadata": {
    "collapsed": true
   },
   "outputs": [],
   "source": [
    "twenty_test=datasets.load_files(\"20news-bydate-test\")"
   ]
  },
  {
   "cell_type": "code",
   "execution_count": 5,
   "metadata": {
    "collapsed": false
   },
   "outputs": [
    {
     "data": {
      "text/plain": [
       "(20, 11314, 11314, 7532)"
      ]
     },
     "execution_count": 5,
     "metadata": {},
     "output_type": "execute_result"
    }
   ],
   "source": [
    "len(twenty_train.target_names),len(twenty_train.data),len(twenty_train.filenames),len(twenty_test.data)"
   ]
  },
  {
   "cell_type": "code",
   "execution_count": 6,
   "metadata": {
    "collapsed": false
   },
   "outputs": [
    {
     "name": "stdout",
     "output_type": "stream",
     "text": [
      "From: cubbie@garnet.berkeley.edu (                               )\n",
      "Subject: Re: Cubs behind Marlins? How?\n",
      "Article-I.D.: agate.1pt592$f9a\n"
     ]
    }
   ],
   "source": [
    "print(\"\\n\".join(twenty_train.data[0].split(\"\\n\")[:3]))"
   ]
  },
  {
   "cell_type": "code",
   "execution_count": 7,
   "metadata": {
    "collapsed": false
   },
   "outputs": [
    {
     "name": "stdout",
     "output_type": "stream",
     "text": [
      "rec.sport.baseball\n"
     ]
    }
   ],
   "source": [
    "print(twenty_train.target_names[twenty_train.target[0]])"
   ]
  },
  {
   "cell_type": "code",
   "execution_count": 8,
   "metadata": {
    "collapsed": false
   },
   "outputs": [
    {
     "data": {
      "text/plain": [
       "array([ 9,  4, 11,  4,  0,  4,  5,  5, 13, 12])"
      ]
     },
     "execution_count": 8,
     "metadata": {},
     "output_type": "execute_result"
    }
   ],
   "source": [
    "twenty_train.target[:10]"
   ]
  },
  {
   "cell_type": "code",
   "execution_count": 9,
   "metadata": {
    "collapsed": true
   },
   "outputs": [],
   "source": [
    "from sklearn.feature_extraction.text import CountVectorizer"
   ]
  },
  {
   "cell_type": "code",
   "execution_count": 10,
   "metadata": {
    "collapsed": true
   },
   "outputs": [],
   "source": [
    "count_vect=CountVectorizer(stop_words='english',decode_error='ignore')"
   ]
  },
  {
   "cell_type": "code",
   "execution_count": 11,
   "metadata": {
    "collapsed": true
   },
   "outputs": [],
   "source": [
    "X_train_counts=count_vect.fit_transform(twenty_train.data)"
   ]
  },
  {
   "cell_type": "code",
   "execution_count": 12,
   "metadata": {
    "collapsed": false
   },
   "outputs": [
    {
     "data": {
      "text/plain": [
       "(11314, 129783)"
      ]
     },
     "execution_count": 12,
     "metadata": {},
     "output_type": "execute_result"
    }
   ],
   "source": [
    "X_train_counts.shape"
   ]
  },
  {
   "cell_type": "code",
   "execution_count": 13,
   "metadata": {
    "collapsed": true
   },
   "outputs": [],
   "source": [
    "from sklearn.feature_extraction.text import TfidfTransformer"
   ]
  },
  {
   "cell_type": "code",
   "execution_count": 25,
   "metadata": {
    "collapsed": false
   },
   "outputs": [
    {
     "data": {
      "text/plain": [
       "(11314, 129783)"
      ]
     },
     "execution_count": 25,
     "metadata": {},
     "output_type": "execute_result"
    }
   ],
   "source": [
    "tfidf_transformer = TfidfTransformer()\n",
    "X_train_tfidf = tfidf_transformer.fit_transform(X_train_counts)\n",
    "X_train_tfidf.shape"
   ]
  },
  {
   "cell_type": "code",
   "execution_count": 17,
   "metadata": {
    "collapsed": true
   },
   "outputs": [],
   "source": [
    "from sklearn.naive_bayes import MultinomialNB"
   ]
  },
  {
   "cell_type": "code",
   "execution_count": 19,
   "metadata": {
    "collapsed": false
   },
   "outputs": [],
   "source": [
    "clf=MultinomialNB().fit(X_train_tf,twenty_train.target)"
   ]
  },
  {
   "cell_type": "code",
   "execution_count": 20,
   "metadata": {
    "collapsed": true
   },
   "outputs": [],
   "source": [
    "doc_news=['God is love','OpenGL on the GPU is fast']"
   ]
  },
  {
   "cell_type": "code",
   "execution_count": 21,
   "metadata": {
    "collapsed": true
   },
   "outputs": [],
   "source": [
    "X_new_counts=count_vect.transform(doc_news)"
   ]
  },
  {
   "cell_type": "code",
   "execution_count": 23,
   "metadata": {
    "collapsed": true
   },
   "outputs": [],
   "source": [
    "tfidf_transformer = TfidfTransformer()"
   ]
  },
  {
   "cell_type": "code",
   "execution_count": 26,
   "metadata": {
    "collapsed": false
   },
   "outputs": [],
   "source": [
    "X_new_tfidf=tfidf_transformer.transform(X_new_counts)"
   ]
  },
  {
   "cell_type": "code",
   "execution_count": 28,
   "metadata": {
    "collapsed": true
   },
   "outputs": [],
   "source": [
    "predicted=clf.predict(X_new_tfidf)"
   ]
  },
  {
   "cell_type": "code",
   "execution_count": 32,
   "metadata": {
    "collapsed": false
   },
   "outputs": [
    {
     "name": "stdout",
     "output_type": "stream",
     "text": [
      "'God is love' => soc.religion.christian\n",
      "'OpenGL on the GPU is fast' => comp.graphics\n"
     ]
    }
   ],
   "source": [
    "for doc,category in zip(doc_news,predicted):\n",
    "    print(\"%r => %s\")%(doc,twenty_train.target_names[category])"
   ]
  },
  {
   "cell_type": "code",
   "execution_count": 33,
   "metadata": {
    "collapsed": true
   },
   "outputs": [],
   "source": [
    "from sklearn.pipeline import Pipeline"
   ]
  },
  {
   "cell_type": "code",
   "execution_count": 34,
   "metadata": {
    "collapsed": true
   },
   "outputs": [],
   "source": [
    "text_clf=Pipeline([('vect',CountVectorizer(stop_words=\"english\",decode_error='ignore')),\n",
    "                    ('tfidf',TfidfTransformer()),\n",
    "                    ('clf',MultinomialNB()),\n",
    "                    ])"
   ]
  },
  {
   "cell_type": "code",
   "execution_count": 35,
   "metadata": {
    "collapsed": true
   },
   "outputs": [],
   "source": [
    "text_clf=text_clf.fit(twenty_train.data,twenty_train.target)"
   ]
  },
  {
   "cell_type": "code",
   "execution_count": 36,
   "metadata": {
    "collapsed": true
   },
   "outputs": [],
   "source": [
    "import numpy as np"
   ]
  },
  {
   "cell_type": "code",
   "execution_count": 37,
   "metadata": {
    "collapsed": true
   },
   "outputs": [],
   "source": [
    "docs_test=twenty_test.data"
   ]
  },
  {
   "cell_type": "code",
   "execution_count": 38,
   "metadata": {
    "collapsed": true
   },
   "outputs": [],
   "source": [
    "predicted=text_clf.predict(docs_test)"
   ]
  },
  {
   "cell_type": "code",
   "execution_count": 39,
   "metadata": {
    "collapsed": false
   },
   "outputs": [
    {
     "data": {
      "text/plain": [
       "0.81691449814126393"
      ]
     },
     "execution_count": 39,
     "metadata": {},
     "output_type": "execute_result"
    }
   ],
   "source": [
    "np.mean(predicted==twenty_test.target)"
   ]
  },
  {
   "cell_type": "code",
   "execution_count": 40,
   "metadata": {
    "collapsed": true
   },
   "outputs": [],
   "source": [
    "from sklearn.linear_model import SGDClassifier"
   ]
  },
  {
   "cell_type": "code",
   "execution_count": 41,
   "metadata": {
    "collapsed": true
   },
   "outputs": [],
   "source": [
    "text_clf_2 = Pipeline([('vect',CountVectorizer(stop_words='english',decode_error='ignore')),\n",
    "                      ('tfidf',TfidfTransformer()),\n",
    "                      ('clf',SGDClassifier(loss = 'hinge',penalty = 'l2',\n",
    "                                          alpha = 1e-3,n_iter = 5, random_state = 42)),\n",
    "                      ])"
   ]
  },
  {
   "cell_type": "code",
   "execution_count": 42,
   "metadata": {
    "collapsed": false
   },
   "outputs": [
    {
     "data": {
      "text/plain": [
       "0.82355284121083383"
      ]
     },
     "execution_count": 42,
     "metadata": {},
     "output_type": "execute_result"
    }
   ],
   "source": [
    "_ = text_clf_2.fit(twenty_train.data,twenty_train.target)\n",
    "predicted = text_clf_2.predict(docs_test)\n",
    "\n",
    "np.mean(predicted == twenty_test.target)"
   ]
  },
  {
   "cell_type": "code",
   "execution_count": 43,
   "metadata": {
    "collapsed": true
   },
   "outputs": [],
   "source": [
    "from sklearn import metrics"
   ]
  },
  {
   "cell_type": "code",
   "execution_count": 44,
   "metadata": {
    "collapsed": false
   },
   "outputs": [
    {
     "name": "stdout",
     "output_type": "stream",
     "text": [
      "                          precision    recall  f1-score   support\n",
      "\n",
      "             alt.atheism       0.71      0.71      0.71       319\n",
      "           comp.graphics       0.81      0.69      0.74       389\n",
      " comp.os.ms-windows.misc       0.72      0.79      0.75       394\n",
      "comp.sys.ibm.pc.hardware       0.73      0.66      0.69       392\n",
      "   comp.sys.mac.hardware       0.82      0.83      0.82       385\n",
      "          comp.windows.x       0.86      0.77      0.81       395\n",
      "            misc.forsale       0.80      0.87      0.84       390\n",
      "               rec.autos       0.91      0.90      0.90       396\n",
      "         rec.motorcycles       0.93      0.97      0.95       398\n",
      "      rec.sport.baseball       0.88      0.91      0.90       397\n",
      "        rec.sport.hockey       0.87      0.98      0.92       399\n",
      "               sci.crypt       0.85      0.96      0.90       396\n",
      "         sci.electronics       0.80      0.62      0.70       393\n",
      "                 sci.med       0.90      0.87      0.88       396\n",
      "               sci.space       0.84      0.96      0.90       394\n",
      "  soc.religion.christian       0.75      0.93      0.83       398\n",
      "      talk.politics.guns       0.70      0.93      0.80       364\n",
      "   talk.politics.mideast       0.92      0.92      0.92       376\n",
      "      talk.politics.misc       0.89      0.56      0.69       310\n",
      "      talk.religion.misc       0.81      0.39      0.53       251\n",
      "\n",
      "             avg / total       0.83      0.82      0.82      7532\n",
      "\n"
     ]
    }
   ],
   "source": [
    "print(metrics.classification_report(twenty_test.target,predicted,target_names=twenty_test.target_names))"
   ]
  },
  {
   "cell_type": "code",
   "execution_count": 45,
   "metadata": {
    "collapsed": false
   },
   "outputs": [
    {
     "data": {
      "text/plain": [
       "array([[227,   1,   0,   1,   0,   0,   2,   0,   2,   3,   0,   2,   1,\n",
       "          9,   6,  46,   2,   5,   1,  11],\n",
       "       [  2, 269,  22,   8,   9,  26,   4,   1,   4,   9,   3,   8,   5,\n",
       "          1,   9,   2,   2,   3,   0,   2],\n",
       "       [  0,   8, 311,  22,  11,  10,   2,   1,   1,   5,   3,   7,   2,\n",
       "          1,   6,   1,   0,   1,   0,   2],\n",
       "       [  3,   8,  32, 260,  19,   3,  19,   3,   3,   3,   2,   3,  22,\n",
       "          1,   5,   0,   2,   2,   1,   1],\n",
       "       [  1,   4,   8,  21, 319,   1,  10,   0,   1,   4,   1,   1,   6,\n",
       "          1,   1,   0,   2,   1,   3,   0],\n",
       "       [  1,  26,  44,   0,   3, 304,   3,   0,   0,   1,   1,   2,   1,\n",
       "          1,   6,   1,   1,   0,   0,   0],\n",
       "       [  0,   2,   0,  17,   6,   0, 340,   9,   1,   2,   3,   1,   3,\n",
       "          2,   3,   0,   1,   0,   0,   0],\n",
       "       [  1,   1,   1,   2,   1,   0,  10, 356,   6,   1,   0,   0,   8,\n",
       "          1,   3,   0,   4,   0,   1,   0],\n",
       "       [  0,   0,   0,   1,   0,   0,   4,   5, 385,   1,   0,   0,   1,\n",
       "          1,   0,   0,   0,   0,   0,   0],\n",
       "       [  0,   0,   0,   0,   1,   0,   4,   0,   0, 362,  29,   0,   0,\n",
       "          0,   0,   0,   1,   0,   0,   0],\n",
       "       [  0,   0,   0,   0,   1,   0,   0,   0,   0,   3, 393,   0,   0,\n",
       "          0,   0,   2,   0,   0,   0,   0],\n",
       "       [  1,   1,   1,   0,   2,   0,   3,   2,   0,   0,   1, 380,   3,\n",
       "          0,   0,   0,   1,   0,   1,   0],\n",
       "       [  7,   5,   9,  24,  11,   4,   8,   9,   6,   7,   4,  28, 245,\n",
       "          6,  11,   4,   2,   1,   2,   0],\n",
       "       [  4,   4,   0,   0,   2,   2,   6,   0,   2,   4,   3,   1,   6,\n",
       "        343,   2,   5,   3,   4,   5,   0],\n",
       "       [  1,   2,   0,   0,   1,   0,   3,   0,   0,   0,   1,   1,   0,\n",
       "          3, 380,   1,   0,   0,   1,   0],\n",
       "       [ 11,   0,   2,   1,   0,   0,   0,   0,   1,   0,   0,   0,   2,\n",
       "          1,   5, 369,   0,   0,   0,   6],\n",
       "       [  0,   0,   0,   1,   1,   0,   2,   2,   1,   2,   2,   5,   0,\n",
       "          1,   3,   0, 340,   1,   2,   1],\n",
       "       [ 12,   1,   0,   0,   1,   4,   0,   1,   0,   2,   2,   1,   0,\n",
       "          1,   1,   1,   1, 347,   1,   0],\n",
       "       [  3,   1,   0,   0,   1,   1,   1,   0,   1,   0,   2,   4,   0,\n",
       "          4,   7,   3, 103,   5, 174,   0],\n",
       "       [ 44,   1,   1,   0,   0,   0,   2,   2,   0,   1,   1,   1,   0,\n",
       "          4,   6,  58,  21,   6,   4,  99]])"
      ]
     },
     "execution_count": 45,
     "metadata": {},
     "output_type": "execute_result"
    }
   ],
   "source": [
    "metrics.confusion_matrix(twenty_test.target,predicted)"
   ]
  },
  {
   "cell_type": "code",
   "execution_count": 46,
   "metadata": {
    "collapsed": true
   },
   "outputs": [],
   "source": [
    "from sklearn.grid_search import GridSearchCV"
   ]
  },
  {
   "cell_type": "code",
   "execution_count": 47,
   "metadata": {
    "collapsed": true
   },
   "outputs": [],
   "source": [
    "parameters={'vect__ngram_range':[(1,1),(1,2)],\n",
    "             'tfidf__use_idf':(True,False),\n",
    "             'clf__alpha':(1e-2,1e-3)}"
   ]
  },
  {
   "cell_type": "code",
   "execution_count": 48,
   "metadata": {
    "collapsed": true
   },
   "outputs": [],
   "source": [
    "gs_clf = GridSearchCV(text_clf_2,parameters,n_jobs = -1)"
   ]
  },
  {
   "cell_type": "code",
   "execution_count": 49,
   "metadata": {
    "collapsed": true
   },
   "outputs": [],
   "source": [
    "gs_clf = gs_clf.fit(twenty_train.data,twenty_train.target)"
   ]
  },
  {
   "cell_type": "code",
   "execution_count": 50,
   "metadata": {
    "collapsed": false
   },
   "outputs": [
    {
     "name": "stdout",
     "output_type": "stream",
     "text": [
      "clf__alpha: 0.001\n",
      "tfidf__use_idf: True\n",
      "vect__ngram_range: (1, 2)\n"
     ]
    }
   ],
   "source": [
    "best_parameters,score,_ = max(gs_clf.grid_scores_,key = lambda x:x[1])\n",
    "for param_name in sorted(parameters.keys()):\n",
    "    print(\"%s: %r\" %(param_name,best_parameters[param_name]))"
   ]
  },
  {
   "cell_type": "code",
   "execution_count": 51,
   "metadata": {
    "collapsed": false
   },
   "outputs": [
    {
     "data": {
      "text/plain": [
       "0.89879794944316771"
      ]
     },
     "execution_count": 51,
     "metadata": {},
     "output_type": "execute_result"
    }
   ],
   "source": [
    "score"
   ]
  },
  {
   "cell_type": "code",
   "execution_count": null,
   "metadata": {
    "collapsed": true
   },
   "outputs": [],
   "source": []
  }
 ],
 "metadata": {
  "anaconda-cloud": {},
  "kernelspec": {
   "display_name": "Python [conda root]",
   "language": "python",
   "name": "conda-root-py"
  },
  "language_info": {
   "codemirror_mode": {
    "name": "ipython",
    "version": 2
   },
   "file_extension": ".py",
   "mimetype": "text/x-python",
   "name": "python",
   "nbconvert_exporter": "python",
   "pygments_lexer": "ipython2",
   "version": "2.7.12"
  }
 },
 "nbformat": 4,
 "nbformat_minor": 1
}
